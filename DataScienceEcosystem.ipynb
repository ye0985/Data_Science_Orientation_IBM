{
 "cells": [
  {
   "cell_type": "markdown",
   "id": "5eae6990-2568-47f1-ada2-0888660d0c4f",
   "metadata": {},
   "source": [
    "# Data Science Tools and Ecosystem "
   ]
  },
  {
   "cell_type": "markdown",
   "id": "989f6607-e681-408d-8732-8fd6362bbec1",
   "metadata": {},
   "source": [
    "## In this notebook, Data Science Tools and Ecosystem are summarized."
   ]
  },
  {
   "cell_type": "markdown",
   "id": "62b5020d-aa3a-468a-8b0e-6b3958dbf1db",
   "metadata": {},
   "source": [
    "**Objectives:**\n",
    "\n",
    "- List popular languages for Data Science.\n",
    "- Explore commonly used libraries in Data Science.\n",
    "- Discuss open-source development environment tools used in Data Science.\n"
   ]
  },
  {
   "cell_type": "markdown",
   "id": "74db8696-f453-4935-ac83-d85e657d8046",
   "metadata": {},
   "source": [
    "### Some of the popular languages that Data Scientists use are:\n",
    "1. Python\n",
    "2. R\n",
    "3. SQL"
   ]
  },
  {
   "cell_type": "markdown",
   "id": "fc4ca011-ad05-41d6-b717-4807a1c8b440",
   "metadata": {},
   "source": [
    "### Some of the commonly used libraries used by Data Scientists include:\n"
   ]
  },
  {
   "cell_type": "markdown",
   "id": "2db9cf11-da5f-484b-a7d2-431368ae6eab",
   "metadata": {},
   "source": [
    "1. NumPy\n",
    "2. Pandas\n",
    "3. Matplotlib\n"
   ]
  },
  {
   "cell_type": "markdown",
   "id": "7ff129e7-6287-4bd7-bc46-ee77a1ba2f33",
   "metadata": {},
   "source": [
    "| Data Science Tools |\n",
    "| ----------------- |\n",
    "| Tool 1: Jupyter Notebook           |\n",
    "| Tool 2: RStudio            |\n",
    "| Tool 3: VS Code            |\n"
   ]
  },
  {
   "cell_type": "markdown",
   "id": "bb4413d0-9a76-482f-ba77-1cbe4f1b144f",
   "metadata": {},
   "source": [
    "### Below are a few examples of evaluating arithmetic expressions in Python."
   ]
  },
  {
   "cell_type": "markdown",
   "id": "b2d6c5f9-0c04-46d5-8fd0-8bcf941c6ffd",
   "metadata": {},
   "source": [
    "#### This a simple arithmetic expression to mutiply then add integers"
   ]
  },
  {
   "cell_type": "code",
   "execution_count": 1,
   "id": "c9ce54c7-f507-4bfb-9175-7ffa1a7d3ca5",
   "metadata": {
    "tags": []
   },
   "outputs": [
    {
     "data": {
      "text/plain": [
       "17"
      ]
     },
     "execution_count": 1,
     "metadata": {},
     "output_type": "execute_result"
    }
   ],
   "source": [
    "(3*4)+5"
   ]
  },
  {
   "cell_type": "markdown",
   "id": "12e4d438-84c0-42e1-a0e8-a69967b2b046",
   "metadata": {},
   "source": [
    "#### This will convert 200 minutes to hours by diving by 60"
   ]
  },
  {
   "cell_type": "code",
   "execution_count": 6,
   "id": "300b6bc0-8694-4cb5-90dc-033069953737",
   "metadata": {
    "tags": []
   },
   "outputs": [
    {
     "data": {
      "text/plain": [
       "3.3333333333333335"
      ]
     },
     "execution_count": 6,
     "metadata": {},
     "output_type": "execute_result"
    }
   ],
   "source": [
    "# This will convert 200 minutes to hours by dividing by 60\n",
    "minutes = 200\n",
    "hours = minutes / 60\n",
    "hours\n"
   ]
  },
  {
   "cell_type": "markdown",
   "id": "a0a08d64-9afe-4b4e-83fa-17c986ecebf4",
   "metadata": {},
   "source": [
    "## Author\n",
    "Yeji Shim\n"
   ]
  },
  {
   "cell_type": "code",
   "execution_count": null,
   "id": "79be100d-be36-482a-84fc-e849ea310842",
   "metadata": {},
   "outputs": [],
   "source": []
  }
 ],
 "metadata": {
  "kernelspec": {
   "display_name": "Python",
   "language": "python",
   "name": "conda-env-python-py"
  },
  "language_info": {
   "codemirror_mode": {
    "name": "ipython",
    "version": 3
   },
   "file_extension": ".py",
   "mimetype": "text/x-python",
   "name": "python",
   "nbconvert_exporter": "python",
   "pygments_lexer": "ipython3",
   "version": "3.7.12"
  }
 },
 "nbformat": 4,
 "nbformat_minor": 5
}
